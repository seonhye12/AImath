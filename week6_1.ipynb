{
 "cells": [
  {
   "cell_type": "code",
   "execution_count": 4,
   "id": "481c1062-502a-45b2-be6b-758655d6fbb8",
   "metadata": {},
   "outputs": [],
   "source": [
    "import numpy as np"
   ]
  },
  {
   "cell_type": "code",
   "execution_count": 5,
   "id": "259fc051-b1d3-4f8d-ad59-0e1993a0a83d",
   "metadata": {},
   "outputs": [],
   "source": [
    "np.random.seed(0)"
   ]
  },
  {
   "cell_type": "code",
   "execution_count": 6,
   "id": "b8d388fb-1b80-4b6e-ae6d-b8b279aaaae0",
   "metadata": {},
   "outputs": [],
   "source": [
    "m = 4\n",
    "n = 5"
   ]
  },
  {
   "cell_type": "code",
   "execution_count": 7,
   "id": "7b18428c-9e20-462d-a46f-83202eec6688",
   "metadata": {},
   "outputs": [],
   "source": [
    "B = np.random.randn(4,5)"
   ]
  },
  {
   "cell_type": "code",
   "execution_count": 8,
   "id": "6a47725c-6d93-4fc0-8250-7bd73086a9f3",
   "metadata": {},
   "outputs": [
    {
     "data": {
      "text/plain": [
       "array([[ 1.76405235,  0.40015721,  0.97873798,  2.2408932 ,  1.86755799],\n",
       "       [-0.97727788,  0.95008842, -0.15135721, -0.10321885,  0.4105985 ],\n",
       "       [ 0.14404357,  1.45427351,  0.76103773,  0.12167502,  0.44386323],\n",
       "       [ 0.33367433,  1.49407907, -0.20515826,  0.3130677 , -0.85409574]])"
      ]
     },
     "execution_count": 8,
     "metadata": {},
     "output_type": "execute_result"
    }
   ],
   "source": [
    "B"
   ]
  },
  {
   "cell_type": "code",
   "execution_count": 9,
   "id": "54d5b610-745d-47d8-9f55-6dd980335013",
   "metadata": {},
   "outputs": [],
   "source": [
    "y = np.random.randn(n,1)"
   ]
  },
  {
   "cell_type": "code",
   "execution_count": 10,
   "id": "8f40d561-5c46-4244-b69c-eedf0cb43280",
   "metadata": {},
   "outputs": [
    {
     "data": {
      "text/plain": [
       "array([[-2.55298982],\n",
       "       [ 0.6536186 ],\n",
       "       [ 0.8644362 ],\n",
       "       [-0.74216502],\n",
       "       [ 2.26975462]])"
      ]
     },
     "execution_count": 10,
     "metadata": {},
     "output_type": "execute_result"
    }
   ],
   "source": [
    "y"
   ]
  },
  {
   "cell_type": "code",
   "execution_count": 11,
   "id": "869006ba-308f-4a47-91f3-a3f091b7a227",
   "metadata": {},
   "outputs": [
    {
     "name": "stdout",
     "output_type": "stream",
     "text": [
      "By= [[-0.8202151 ]\n",
      " [ 3.99370055]\n",
      " [ 2.15782468]\n",
      " [-2.22359117]]\n"
     ]
    }
   ],
   "source": [
    "By = np.matmul(B,y)\n",
    "print('By=',By)"
   ]
  },
  {
   "cell_type": "code",
   "execution_count": 12,
   "id": "4010042a-22c7-4def-8b7f-983c86e40fc0",
   "metadata": {},
   "outputs": [],
   "source": [
    "By_right = 0\n",
    "for i in np.arange(n):\n",
    "    By_right += B[:,i].reshape(-1,1)*y[i]"
   ]
  },
  {
   "cell_type": "code",
   "execution_count": 13,
   "id": "ec283052-6b07-482f-af44-e8718edf98c0",
   "metadata": {},
   "outputs": [
    {
     "data": {
      "text/plain": [
       "array([[-0.8202151 ],\n",
       "       [ 3.99370055],\n",
       "       [ 2.15782468],\n",
       "       [-2.22359117]])"
      ]
     },
     "execution_count": 13,
     "metadata": {},
     "output_type": "execute_result"
    }
   ],
   "source": [
    "By_right"
   ]
  },
  {
   "cell_type": "code",
   "execution_count": 14,
   "id": "e8384e18-ebb0-4b7f-b3b2-440bce22d8af",
   "metadata": {},
   "outputs": [
    {
     "data": {
      "text/plain": [
       "array([[False],\n",
       "       [False],\n",
       "       [ True],\n",
       "       [ True]])"
      ]
     },
     "execution_count": 14,
     "metadata": {},
     "output_type": "execute_result"
    }
   ],
   "source": [
    "By == By_right"
   ]
  },
  {
   "cell_type": "code",
   "execution_count": 15,
   "id": "94fe6c2d-4531-4376-9e50-540b2b5912e7",
   "metadata": {},
   "outputs": [],
   "source": [
    "n = 5"
   ]
  },
  {
   "cell_type": "code",
   "execution_count": 16,
   "id": "c7032e0f-13b2-41f5-b734-0b5fd6f789dd",
   "metadata": {},
   "outputs": [],
   "source": [
    "s_1 = np.random.randn(5,1)\n",
    "s_2 = np.random.randn(5,1)\n",
    "s_3 = np.random.randn(5,1)\n",
    "s_4 = np.random.randn(5,1)"
   ]
  },
  {
   "cell_type": "code",
   "execution_count": 17,
   "id": "db504eaa-8413-474e-86b1-712440fa32cb",
   "metadata": {},
   "outputs": [
    {
     "data": {
      "text/plain": [
       "array([[-1.45436567],\n",
       "       [ 0.04575852],\n",
       "       [-0.18718385],\n",
       "       [ 1.53277921],\n",
       "       [ 1.46935877]])"
      ]
     },
     "execution_count": 17,
     "metadata": {},
     "output_type": "execute_result"
    }
   ],
   "source": [
    "s_1"
   ]
  },
  {
   "cell_type": "code",
   "execution_count": 18,
   "id": "5addd8e2-9c67-43ca-948c-ee25a3faea5d",
   "metadata": {},
   "outputs": [],
   "source": [
    "x_1 = np.vstack([ 1 , s_1])"
   ]
  },
  {
   "cell_type": "code",
   "execution_count": 19,
   "id": "c4b28dd7-0e47-4480-b769-8440645fd533",
   "metadata": {},
   "outputs": [],
   "source": [
    "S = np.vstack([s_1.T , s_2.T, s_3.T, s_4.T])"
   ]
  },
  {
   "cell_type": "code",
   "execution_count": 20,
   "id": "91c22795-bace-43c0-91ee-72c384d74b96",
   "metadata": {},
   "outputs": [
    {
     "data": {
      "text/plain": [
       "array([[-1.45436567,  0.04575852, -0.18718385,  1.53277921,  1.46935877],\n",
       "       [ 0.15494743,  0.37816252, -0.88778575, -1.98079647, -0.34791215],\n",
       "       [ 0.15634897,  1.23029068,  1.20237985, -0.38732682, -0.30230275],\n",
       "       [-1.04855297, -1.42001794, -1.70627019,  1.9507754 , -0.50965218]])"
      ]
     },
     "execution_count": 20,
     "metadata": {},
     "output_type": "execute_result"
    }
   ],
   "source": [
    "S"
   ]
  },
  {
   "cell_type": "code",
   "execution_count": 21,
   "id": "a0ec682f-5a55-483a-9d11-3902dbc8b698",
   "metadata": {},
   "outputs": [],
   "source": [
    "one_vec = np.ones((4,1))"
   ]
  },
  {
   "cell_type": "code",
   "execution_count": 22,
   "id": "638a925d-7ce1-4267-8a0e-b9e884585f10",
   "metadata": {},
   "outputs": [],
   "source": [
    "X = np.hstack([one_vec,S])"
   ]
  },
  {
   "cell_type": "code",
   "execution_count": 24,
   "id": "52f05b2c-8c99-47c5-afda-04af70b773f8",
   "metadata": {},
   "outputs": [],
   "source": [
    "theta = np.random.randn(n+1,1)"
   ]
  },
  {
   "cell_type": "code",
   "execution_count": 25,
   "id": "4a6c6064-9ef1-498e-af6f-fd9355140959",
   "metadata": {},
   "outputs": [
    {
     "data": {
      "text/plain": [
       "(6, 1)"
      ]
     },
     "execution_count": 25,
     "metadata": {},
     "output_type": "execute_result"
    }
   ],
   "source": [
    "theta.shape"
   ]
  },
  {
   "cell_type": "code",
   "execution_count": 26,
   "id": "48cde516-fef4-442a-8fd0-4f0da3f1b3df",
   "metadata": {},
   "outputs": [],
   "source": [
    "Xtheta = np.matmul(X ,theta)"
   ]
  },
  {
   "cell_type": "code",
   "execution_count": 27,
   "id": "c4bc12bc-87e8-4632-b926-97f7049b329d",
   "metadata": {},
   "outputs": [
    {
     "data": {
      "text/plain": [
       "array([[ 0.07977516],\n",
       "       [ 1.82756039],\n",
       "       [-1.26482466],\n",
       "       [ 2.56661151]])"
      ]
     },
     "execution_count": 27,
     "metadata": {},
     "output_type": "execute_result"
    }
   ],
   "source": [
    "Xtheta"
   ]
  }
 ],
 "metadata": {
  "kernelspec": {
   "display_name": "Python 3",
   "language": "python",
   "name": "python3"
  },
  "language_info": {
   "codemirror_mode": {
    "name": "ipython",
    "version": 3
   },
   "file_extension": ".py",
   "mimetype": "text/x-python",
   "name": "python",
   "nbconvert_exporter": "python",
   "pygments_lexer": "ipython3",
   "version": "3.8.8"
  }
 },
 "nbformat": 4,
 "nbformat_minor": 5
}
