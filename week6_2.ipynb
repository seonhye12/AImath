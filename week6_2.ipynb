{
 "cells": [
  {
   "cell_type": "code",
   "execution_count": 10,
   "id": "20af2b89-7d62-4427-b733-01c0c0e16763",
   "metadata": {},
   "outputs": [],
   "source": [
    "import numpy as n"
   ]
  },
  {
   "cell_type": "code",
   "execution_count": 11,
   "id": "a354bd87-a91f-4da0-a815-ca452d2d478a",
   "metadata": {},
   "outputs": [],
   "source": [
    "np.random.seed(0)"
   ]
  },
  {
   "cell_type": "code",
   "execution_count": 12,
   "id": "3efc34f9-a00f-4415-9414-505b2a8642c4",
   "metadata": {},
   "outputs": [],
   "source": [
    "m = 4\n",
    "n = 3"
   ]
  },
  {
   "cell_type": "code",
   "execution_count": 13,
   "id": "ea3926d9-e31d-4f30-9c29-a0f1ee35c1d5",
   "metadata": {},
   "outputs": [],
   "source": [
    "A = np.random.randn(m,n)"
   ]
  },
  {
   "cell_type": "code",
   "execution_count": 14,
   "id": "04d1b5f3-cf55-4e64-a850-0dd04ac139d6",
   "metadata": {},
   "outputs": [
    {
     "data": {
      "text/plain": [
       "array([[ 1.76405235,  0.40015721,  0.97873798],\n",
       "       [ 2.2408932 ,  1.86755799, -0.97727788],\n",
       "       [ 0.95008842, -0.15135721, -0.10321885],\n",
       "       [ 0.4105985 ,  0.14404357,  1.45427351]])"
      ]
     },
     "execution_count": 14,
     "metadata": {},
     "output_type": "execute_result"
    }
   ],
   "source": [
    "A"
   ]
  },
  {
   "cell_type": "code",
   "execution_count": 15,
   "id": "5143332a-076e-487b-b86c-af1da92e75ca",
   "metadata": {},
   "outputs": [],
   "source": [
    "a_1 = A[:,0]"
   ]
  },
  {
   "cell_type": "code",
   "execution_count": 16,
   "id": "da14eecc-91aa-4af0-a632-9d1ac9698859",
   "metadata": {},
   "outputs": [
    {
     "data": {
      "text/plain": [
       "array([1.76405235, 2.2408932 , 0.95008842, 0.4105985 ])"
      ]
     },
     "execution_count": 16,
     "metadata": {},
     "output_type": "execute_result"
    }
   ],
   "source": [
    "a_1"
   ]
  },
  {
   "cell_type": "code",
   "execution_count": 18,
   "id": "af3a1cfb-39d1-4787-a748-19fbfbdb7890",
   "metadata": {},
   "outputs": [],
   "source": [
    "a_1 = A[:,0] .reshape(-1,1)\n",
    "a_2 = A[:,1] .reshape(-1,1)\n",
    "a_3 = A[:,2] .reshape(-1,1)"
   ]
  },
  {
   "cell_type": "code",
   "execution_count": 19,
   "id": "972d6015-d012-4f92-8caa-be5659154468",
   "metadata": {},
   "outputs": [
    {
     "data": {
      "text/plain": [
       "array([[1.76405235],\n",
       "       [2.2408932 ],\n",
       "       [0.95008842],\n",
       "       [0.4105985 ]])"
      ]
     },
     "execution_count": 19,
     "metadata": {},
     "output_type": "execute_result"
    }
   ],
   "source": [
    "a_1"
   ]
  },
  {
   "cell_type": "code",
   "execution_count": 20,
   "id": "7f49000e-c38e-43c8-8ce4-73379e995a80",
   "metadata": {},
   "outputs": [
    {
     "data": {
      "text/plain": [
       "array([[ 0.40015721],\n",
       "       [ 1.86755799],\n",
       "       [-0.15135721],\n",
       "       [ 0.14404357]])"
      ]
     },
     "execution_count": 20,
     "metadata": {},
     "output_type": "execute_result"
    }
   ],
   "source": [
    "a_2"
   ]
  },
  {
   "cell_type": "code",
   "execution_count": 21,
   "id": "27a5f171-eaa8-4d3f-8874-466de09e020e",
   "metadata": {},
   "outputs": [
    {
     "data": {
      "text/plain": [
       "array([[ 0.97873798],\n",
       "       [-0.97727788],\n",
       "       [-0.10321885],\n",
       "       [ 1.45427351]])"
      ]
     },
     "execution_count": 21,
     "metadata": {},
     "output_type": "execute_result"
    }
   ],
   "source": [
    "a_3"
   ]
  },
  {
   "cell_type": "code",
   "execution_count": 22,
   "id": "e6d9ab2f-b89f-4fcd-a34b-a3114a916592",
   "metadata": {},
   "outputs": [],
   "source": [
    "AT = np.vstack([a_1.T, a_2.T, a_3.T])"
   ]
  },
  {
   "cell_type": "code",
   "execution_count": 23,
   "id": "610f8ab8-d097-4663-bfe5-849473cff6e9",
   "metadata": {},
   "outputs": [
    {
     "data": {
      "text/plain": [
       "array([[ 1.76405235,  2.2408932 ,  0.95008842,  0.4105985 ],\n",
       "       [ 0.40015721,  1.86755799, -0.15135721,  0.14404357],\n",
       "       [ 0.97873798, -0.97727788, -0.10321885,  1.45427351]])"
      ]
     },
     "execution_count": 23,
     "metadata": {},
     "output_type": "execute_result"
    }
   ],
   "source": [
    "AT"
   ]
  },
  {
   "cell_type": "code",
   "execution_count": 24,
   "id": "20b9c6f1-9c65-4fa8-8b74-88356c2c6cb4",
   "metadata": {},
   "outputs": [
    {
     "data": {
      "text/plain": [
       "array([[ 1.76405235,  2.2408932 ,  0.95008842,  0.4105985 ],\n",
       "       [ 0.40015721,  1.86755799, -0.15135721,  0.14404357],\n",
       "       [ 0.97873798, -0.97727788, -0.10321885,  1.45427351]])"
      ]
     },
     "execution_count": 24,
     "metadata": {},
     "output_type": "execute_result"
    }
   ],
   "source": [
    "A.T"
   ]
  },
  {
   "cell_type": "code",
   "execution_count": 25,
   "id": "3aa21f35-1ce3-4b10-a128-f579fd1cdc53",
   "metadata": {},
   "outputs": [
    {
     "data": {
      "text/plain": [
       "1"
      ]
     },
     "execution_count": 25,
     "metadata": {},
     "output_type": "execute_result"
    }
   ],
   "source": [
    "np.prod(AT == A.T)"
   ]
  },
  {
   "cell_type": "code",
   "execution_count": 28,
   "id": "6a9a1512-2e4a-467e-9643-e6cde7090b97",
   "metadata": {},
   "outputs": [],
   "source": [
    "A = np.array([[1,2],[3,4],[5,6]])"
   ]
  },
  {
   "cell_type": "code",
   "execution_count": 29,
   "id": "fbb4d30e-f65e-4114-b0c7-abf8fd7cf4a6",
   "metadata": {},
   "outputs": [
    {
     "data": {
      "text/plain": [
       "array([[1, 2],\n",
       "       [3, 4],\n",
       "       [5, 6]])"
      ]
     },
     "execution_count": 29,
     "metadata": {},
     "output_type": "execute_result"
    }
   ],
   "source": [
    "A"
   ]
  },
  {
   "cell_type": "code",
   "execution_count": 30,
   "id": "3114a5e3-5f20-4a7b-822f-15187baf23e4",
   "metadata": {},
   "outputs": [],
   "source": [
    "B = np.array([[1,2],[1,1],[1,1]])"
   ]
  },
  {
   "cell_type": "code",
   "execution_count": 31,
   "id": "f2354bee-ffff-4c67-8105-4654ac9bff8d",
   "metadata": {},
   "outputs": [
    {
     "data": {
      "text/plain": [
       "array([[1, 2],\n",
       "       [1, 1],\n",
       "       [1, 1]])"
      ]
     },
     "execution_count": 31,
     "metadata": {},
     "output_type": "execute_result"
    }
   ],
   "source": [
    "B"
   ]
  },
  {
   "cell_type": "code",
   "execution_count": 32,
   "id": "31612baa-3905-4308-8f75-51f473586dbe",
   "metadata": {},
   "outputs": [
    {
     "data": {
      "text/plain": [
       "array([[ 9, 12],\n",
       "       [10, 14]])"
      ]
     },
     "execution_count": 32,
     "metadata": {},
     "output_type": "execute_result"
    }
   ],
   "source": [
    "np.matmul(B.T, A)"
   ]
  },
  {
   "cell_type": "code",
   "execution_count": 33,
   "id": "2714f010-5ff1-41ba-a889-7c848de2dbfe",
   "metadata": {},
   "outputs": [],
   "source": [
    "A = np.array([[1,1,1],[2,3,4]])"
   ]
  },
  {
   "cell_type": "code",
   "execution_count": 34,
   "id": "c882c8f8-e607-46e7-ad2b-86312d425a47",
   "metadata": {},
   "outputs": [
    {
     "data": {
      "text/plain": [
       "array([[1, 1, 1],\n",
       "       [2, 3, 4]])"
      ]
     },
     "execution_count": 34,
     "metadata": {},
     "output_type": "execute_result"
    }
   ],
   "source": [
    "A"
   ]
  },
  {
   "cell_type": "code",
   "execution_count": 35,
   "id": "89a54089-a5eb-4ef1-8793-9e0e937d9d99",
   "metadata": {},
   "outputs": [
    {
     "data": {
      "text/plain": [
       "(2, 3)"
      ]
     },
     "execution_count": 35,
     "metadata": {},
     "output_type": "execute_result"
    }
   ],
   "source": [
    "A.shape"
   ]
  },
  {
   "cell_type": "code",
   "execution_count": 36,
   "id": "626613ff-aa3b-4f8d-88be-f70cbeee01e6",
   "metadata": {},
   "outputs": [],
   "source": [
    "B = np.random.randn(4,3)"
   ]
  },
  {
   "cell_type": "code",
   "execution_count": 37,
   "id": "6198fd6c-7343-44b8-93ed-dd6a8453fb31",
   "metadata": {},
   "outputs": [],
   "source": [
    "C = np.random.randn(3,8)"
   ]
  },
  {
   "cell_type": "code",
   "execution_count": 38,
   "id": "8a56f481-3fda-40e4-b956-68ff69391d56",
   "metadata": {},
   "outputs": [
    {
     "data": {
      "text/plain": [
       "array([[ 0.76103773,  0.12167502,  0.44386323],\n",
       "       [ 0.33367433,  1.49407907, -0.20515826],\n",
       "       [ 0.3130677 , -0.85409574, -2.55298982],\n",
       "       [ 0.6536186 ,  0.8644362 , -0.74216502]])"
      ]
     },
     "execution_count": 38,
     "metadata": {},
     "output_type": "execute_result"
    }
   ],
   "source": [
    "B"
   ]
  },
  {
   "cell_type": "code",
   "execution_count": 39,
   "id": "f7c9fbdd-0344-4119-bea1-7b1b4c091d53",
   "metadata": {},
   "outputs": [
    {
     "data": {
      "text/plain": [
       "array([[ 2.26975462, -1.45436567,  0.04575852, -0.18718385,  1.53277921,\n",
       "         1.46935877,  0.15494743,  0.37816252],\n",
       "       [-0.88778575, -1.98079647, -0.34791215,  0.15634897,  1.23029068,\n",
       "         1.20237985, -0.38732682, -0.30230275],\n",
       "       [-1.04855297, -1.42001794, -1.70627019,  1.9507754 , -0.50965218,\n",
       "        -0.4380743 , -1.25279536,  0.77749036]])"
      ]
     },
     "execution_count": 39,
     "metadata": {},
     "output_type": "execute_result"
    }
   ],
   "source": [
    "C"
   ]
  },
  {
   "cell_type": "code",
   "execution_count": 40,
   "id": "a3d0780b-01c4-4497-a4cb-283cba0a64ef",
   "metadata": {},
   "outputs": [
    {
     "data": {
      "text/plain": [
       "(4, 8)"
      ]
     },
     "execution_count": 40,
     "metadata": {},
     "output_type": "execute_result"
    }
   ],
   "source": [
    "np.matmul(B,C).shape"
   ]
  },
  {
   "cell_type": "code",
   "execution_count": 41,
   "id": "a6295d0c-de7d-4664-8633-205b9c842c8f",
   "metadata": {},
   "outputs": [],
   "source": [
    "A = np.random.randn(4,6)"
   ]
  },
  {
   "cell_type": "code",
   "execution_count": 42,
   "id": "ab0e48d1-32e8-41c8-b7d7-853fbe2d0738",
   "metadata": {},
   "outputs": [
    {
     "data": {
      "text/plain": [
       "array([[-1.61389785, -0.21274028, -0.89546656,  0.3869025 , -0.51080514,\n",
       "        -1.18063218],\n",
       "       [-0.02818223,  0.42833187,  0.06651722,  0.3024719 , -0.63432209,\n",
       "        -0.36274117],\n",
       "       [-0.67246045, -0.35955316, -0.81314628, -1.7262826 ,  0.17742614,\n",
       "        -0.40178094],\n",
       "       [-1.63019835,  0.46278226, -0.90729836,  0.0519454 ,  0.72909056,\n",
       "         0.12898291]])"
      ]
     },
     "execution_count": 42,
     "metadata": {},
     "output_type": "execute_result"
    }
   ],
   "source": [
    "A"
   ]
  },
  {
   "cell_type": "code",
   "execution_count": 43,
   "id": "d86413c4-1083-42f1-97e0-870bcf975f86",
   "metadata": {},
   "outputs": [
    {
     "data": {
      "text/plain": [
       "0.06651722238316789"
      ]
     },
     "execution_count": 43,
     "metadata": {},
     "output_type": "execute_result"
    }
   ],
   "source": [
    "A[1,2]"
   ]
  },
  {
   "cell_type": "code",
   "execution_count": 44,
   "id": "7effd4e7-d08a-49f1-8fbe-90784502cf49",
   "metadata": {},
   "outputs": [
    {
     "data": {
      "text/plain": [
       "array([-1.63019835,  0.46278226, -0.90729836,  0.0519454 ,  0.72909056,\n",
       "        0.12898291])"
      ]
     },
     "execution_count": 44,
     "metadata": {},
     "output_type": "execute_result"
    }
   ],
   "source": [
    "A[3,:]"
   ]
  },
  {
   "cell_type": "code",
   "execution_count": 46,
   "id": "38189434-c88d-4e98-81e7-b3bf405ebd50",
   "metadata": {},
   "outputs": [
    {
     "data": {
      "text/plain": [
       "array([-1.61389785, -0.02818223, -0.67246045, -1.63019835])"
      ]
     },
     "execution_count": 46,
     "metadata": {},
     "output_type": "execute_result"
    }
   ],
   "source": [
    "A[:,0]"
   ]
  },
  {
   "cell_type": "code",
   "execution_count": 47,
   "id": "7ca7c804-6833-45ee-b018-5868223115be",
   "metadata": {},
   "outputs": [
    {
     "data": {
      "text/plain": [
       "array([[-1.61389785],\n",
       "       [-0.02818223],\n",
       "       [-0.67246045],\n",
       "       [-1.63019835]])"
      ]
     },
     "execution_count": 47,
     "metadata": {},
     "output_type": "execute_result"
    }
   ],
   "source": [
    "A[:,0].reshape(-1,1)"
   ]
  }
 ],
 "metadata": {
  "kernelspec": {
   "display_name": "Python 3",
   "language": "python",
   "name": "python3"
  },
  "language_info": {
   "codemirror_mode": {
    "name": "ipython",
    "version": 3
   },
   "file_extension": ".py",
   "mimetype": "text/x-python",
   "name": "python",
   "nbconvert_exporter": "python",
   "pygments_lexer": "ipython3",
   "version": "3.8.8"
  }
 },
 "nbformat": 4,
 "nbformat_minor": 5
}
